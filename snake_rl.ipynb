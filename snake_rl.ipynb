{
 "cells": [
  {
   "cell_type": "code",
   "execution_count": 1,
   "metadata": {},
   "outputs": [],
   "source": [
    "from selenium import webdriver\n",
    "from selenium.webdriver.common.keys import Keys\n",
    "from selenium.common.exceptions import WebDriverException\n",
    "import matplotlib.pyplot as plt\n",
    "import time\n",
    "import os\n",
    "import random\n",
    "from PIL import Image, ImageOps"
   ]
  },
  {
   "cell_type": "markdown",
   "metadata": {},
   "source": [
    "#### Parameters"
   ]
  },
  {
   "cell_type": "code",
   "execution_count": 2,
   "metadata": {},
   "outputs": [],
   "source": [
    "STILL_ALIVE_REWARD = 1\n",
    "DEAD_REWARD = -1000\n",
    "\n",
    "CROP_SHAPE = (750, 539, 1)\n",
    "RESIZE_WIDTH = 180\n",
    "RESIZE_HEIGHT = 137\n",
    "\n",
    "SHOTS_FOLDER = 'data/shots/'"
   ]
  },
  {
   "cell_type": "markdown",
   "metadata": {},
   "source": [
    "#### Browser functions"
   ]
  },
  {
   "cell_type": "code",
   "execution_count": 3,
   "metadata": {},
   "outputs": [],
   "source": [
    "def selectLevel(l):\n",
    "    xpath = '/html/body/section/div[2]/nav/p[' + str(l+1) + ']'\n",
    "    \n",
    "    level = browser.find_element_by_xpath(xpath)\n",
    "    level.click()\n",
    "    \n",
    "    \n",
    "def clickBoard():        \n",
    "    xpath = '/html/body/section/div[2]/div'\n",
    "    board = browser.find_element_by_xpath(xpath)\n",
    "\n",
    "    try:\n",
    "        board.click()\n",
    "    except WebDriverException:\n",
    "        print('Exception')\n",
    "        return\n",
    "    \n",
    "    \n",
    "def getScreen(fileName):    \n",
    "    state = getState()\n",
    "#     if state == 'playing' or state == 'paused':    \n",
    "    ss = browser.get_screenshot_as_file(SHOTS_FOLDER + fileName)\n",
    "    \n",
    "    \n",
    "def getState():\n",
    "    xpath = '/html/body/section/div[2]'\n",
    "    state = browser.find_element_by_xpath(xpath)\n",
    "    c = state.get_attribute('class')\n",
    "    \n",
    "    return c.split(' ')[-1]\n",
    "\n",
    "\n",
    "def getScore():\n",
    "    state = getState()\n",
    "    \n",
    "    if state == 'playing' or state == 'paused':\n",
    "        \n",
    "        xpath = '/html/body/section/div[2]/p[1]/span'\n",
    "        score = browser.find_element_by_xpath(xpath)\n",
    "\n",
    "        if not score.text.isnumeric():\n",
    "            return 0\n",
    "        return int(score.text)\n",
    "    \n",
    "    return 0\n",
    "\n",
    "\n",
    "def makeMove(m):\n",
    "    xpath = '/html/body/section/div[2]/div'\n",
    "    board = browser.find_element_by_xpath(xpath)\n",
    "\n",
    "    if m == 1:\n",
    "        browser.find_element_by_tag_name('body').send_keys(Keys.ARROW_RIGHT)\n",
    "    elif m == 2:\n",
    "        browser.find_element_by_tag_name('body').send_keys(Keys.ARROW_DOWN)\n",
    "    elif m == 3:\n",
    "        browser.find_element_by_tag_name('body').send_keys(Keys.ARROW_LEFT)\n",
    "    elif m == 4:\n",
    "        browser.find_element_by_tag_name('body').send_keys(Keys.ARROW_UP)\n",
    "        \n",
    "\n",
    "def makeRandomMove():\n",
    "    r = random.randint(0, 4)\n",
    "    makeMove(r)\n",
    "    \n",
    "    return r"
   ]
  },
  {
   "cell_type": "markdown",
   "metadata": {},
   "source": [
    "#### Preprocess functions"
   ]
  },
  {
   "cell_type": "code",
   "execution_count": 4,
   "metadata": {},
   "outputs": [],
   "source": [
    "def getLastGameIndex():\n",
    "    '''Get the index of the last current game.'''\n",
    "    files = os.listdir(SHOTS_FOLDER)\n",
    "    last = files[-1]\n",
    "    \n",
    "    return parseName(last)[0]\n",
    "\n",
    "\n",
    "def getName(g, i, m, r):\n",
    "    '''Form the file name from the board data.'''\n",
    "    return str(g).zfill(3) + '_' + str(i).zfill(3) + '_' + str(m) + '_' + str(r) + '.png'\n",
    "\n",
    "\n",
    "def parseName(fileName):\n",
    "    '''Parse the board data from the file name.'''\n",
    "    return [int(d) for d in fileName[:-4].split('_')]\n",
    "\n",
    "\n",
    "def cropImgOld(fileName):\n",
    "    ss = plt.imread(fileName)\n",
    "\n",
    "    ss = ss[120:659, 273:1023, :]\n",
    "    \n",
    "    plt.imsave(fileName, ss)\n",
    "        \n",
    "\n",
    "def preprocImg(fileName):\n",
    "    '''Preprocess a screenshot.'''\n",
    "    im = Image.open(fileName)    \n",
    "    \n",
    "    # Crop board\n",
    "    im = im.crop((273, 120, 1023, 659))\n",
    "    \n",
    "    # Grayscale\n",
    "    im = ImageOps.grayscale(im)\n",
    "    \n",
    "    # Binarization\n",
    "    t = 127\n",
    "    im = im.point(lambda x: 255 if x > t else 0)\n",
    "    \n",
    "    # Resize\n",
    "    im = im.resize((RESIZE_WIDTH, RESIZE_HEIGHT))\n",
    "    \n",
    "    return im\n",
    "    \n",
    "    \n",
    "def preprocAll(gameIndex):\n",
    "    '''Preprocess all screenshots in the data folder.'''\n",
    "    files = os.listdir(SHOTS_FOLDER)\n",
    "    for f in files:\n",
    "        g = parseName(f)[0]\n",
    "        \n",
    "        if g >= gameIndex:        \n",
    "            fileName =  SHOTS_FOLDER + f\n",
    "            im = preprocImg(fileName)\n",
    "            im.save(fileName)"
   ]
  },
  {
   "cell_type": "code",
   "execution_count": 45,
   "metadata": {},
   "outputs": [],
   "source": [
    "preprocAll(0)"
   ]
  },
  {
   "cell_type": "markdown",
   "metadata": {},
   "source": [
    "#### Play game"
   ]
  },
  {
   "cell_type": "code",
   "execution_count": 6,
   "metadata": {},
   "outputs": [],
   "source": [
    "url = 'https://playsnake.org/'\n",
    "\n",
    "browser = webdriver.Chrome(executable_path='D:/Libraries/Drivers/chromedriver_win32/chromedriver.exe')\n",
    "# browser = webdriver.Chrome(executable_path='D:/Biblioteci/Python/chromedriver_win32/chromedriver.exe')\n",
    "browser.get(url) \n",
    "\n",
    "START_GAME = getLastGameIndex() + 1\n",
    "gameIndex = START_GAME\n",
    "\n",
    "maxGames = 2\n",
    "\n",
    "for g in range(maxGames):\n",
    "    \n",
    "    # Select the level\n",
    "    selectLevel(1)\n",
    "    time.sleep(2)\n",
    "    \n",
    "    score = 0\n",
    "    screenIndex = 0\n",
    "    \n",
    "    clickBoard()\n",
    "    while getState() == 'playing' or getState() == 'paused':\n",
    "        s2 = getScreen('prev.png')\n",
    "        screenIndex += 1    \n",
    "\n",
    "        clickBoard()\n",
    "        m = makeRandomMove()\n",
    "        clickBoard()\n",
    "        \n",
    "        # Update last board  \n",
    "        r = max(STILL_ALIVE_REWARD, getScore() - score) \n",
    "        fileName = getName(gameIndex, screenIndex, m, r)\n",
    "        os.rename(SHOTS_FOLDER + 'prev.png', SHOTS_FOLDER + fileName)\n",
    "        score = getScore()\n",
    "        \n",
    "    # Change reward of last board\n",
    "    g, i, m, r = parseName(fileName)\n",
    "    os.rename(SHOTS_FOLDER + fileName, SHOTS_FOLDER + getName(g, i, m, DEAD_REWARD))\n",
    "    \n",
    "    time.sleep(1)\n",
    "    \n",
    "    gameIndex += 1\n",
    "\n",
    "browser.quit()\n",
    "\n",
    "preprocAll(START_GAME)"
   ]
  },
  {
   "cell_type": "markdown",
   "metadata": {},
   "source": [
    "### Q model"
   ]
  },
  {
   "cell_type": "code",
   "execution_count": 36,
   "metadata": {},
   "outputs": [],
   "source": [
    "from keras.models import Sequential\n",
    "from keras.layers import Conv2D, MaxPool2D, Flatten, Dense, Dropout\n",
    "from keras.regularizers import l2\n",
    "from keras.optimizers import Adam, Adadelta, RMSprop\n",
    "import keras.losses as losses\n",
    "from keras.backend import set_image_data_format\n",
    "from keras.wrappers.scikit_learn import KerasClassifier\n",
    "from sklearn.model_selection import StratifiedKFold, cross_val_score\n",
    "from sklearn.pipeline import Pipeline\n",
    "import numpy as np\n",
    "\n",
    "set_image_data_format('channels_first')"
   ]
  },
  {
   "cell_type": "markdown",
   "metadata": {},
   "source": [
    "#### Input functions"
   ]
  },
  {
   "cell_type": "code",
   "execution_count": 31,
   "metadata": {},
   "outputs": [],
   "source": [
    "def readData():\n",
    "    files = os.listdir(SHOTS_FOLDER)\n",
    "    \n",
    "    labels = np.zeros(len(files))    \n",
    "    data = []\n",
    "    \n",
    "    for i, f in enumerate(files):\n",
    "        im = Image.open(SHOTS_FOLDER + f)\n",
    "        \n",
    "        if f in history:\n",
    "            labels[i] = history[f][2]\n",
    "        else:\n",
    "            labels[i] = STILL_ALIVE_REWARD\n",
    "            \n",
    "        data.append([np.asarray(im.convert(\"L\"))])\n",
    "        \n",
    "    data = np.asarray(data)\n",
    "    return data, labels\n",
    "\n",
    "\n",
    "def sampleData(nSamples, propD, propR, propA):\n",
    "    '''Sample the input data according to some proportions.\n",
    "    \n",
    "    Parameters\n",
    "    ----------\n",
    "    nSamples: total number of samples\n",
    "    propD: proportion of samples which represent a death\n",
    "    propR: proportion of samples which represent a reward\n",
    "    propA: proportion of rest of samples\n",
    "    '''\n",
    "    \n",
    "    files = os.listdir(SHOTS_FOLDER)\n",
    "    \n",
    "    perc = []\n",
    "    nd, na, nr = (0, 0, 0)\n",
    "    for f in files:\n",
    "        r = parseName(f)[3]\n",
    "        if r == DEAD_REWARD:\n",
    "            perc.append('d')\n",
    "            nd += 1\n",
    "        elif r == STILL_ALIVE_REWARD:\n",
    "            perc.append('a')\n",
    "            na += 1\n",
    "        else:\n",
    "            perc.append('r')\n",
    "            nr += 1\n",
    "        \n",
    "    n = propD * nd + propA * na + propR * nr\n",
    "    pd = propD / n\n",
    "    pa = propA / n\n",
    "    pr = propR / n\n",
    "    for i in range(len(perc)):\n",
    "        if perc[i] == 'd':\n",
    "            perc[i] = pd\n",
    "        elif perc[i] == 'a':\n",
    "            perc[i] = pa\n",
    "        else:\n",
    "            perc[i] = pr\n",
    "        \n",
    "    samples = np.random.choice(files, size=nSamples, replace=False, p=perc)\n",
    "    return samples\n",
    "\n",
    "\n",
    "def readSamplesBasic(samples):\n",
    "    '''Read samples for basic model, which just classifies if a board is finished or not.'''\n",
    "    data = []\n",
    "    labels = []\n",
    "    \n",
    "    for file in samples:\n",
    "        im = Image.open(SHOTS_FOLDER + file)\n",
    "        g, i, m, r = parseName(file)\n",
    "        \n",
    "        data.append([np.asarray(im.convert(\"L\"))])\n",
    "        labels.append(1 if r > 0 else 0)\n",
    "        \n",
    "    data = np.asarray(data)\n",
    "    return data, labels"
   ]
  },
  {
   "cell_type": "markdown",
   "metadata": {},
   "source": [
    "#### DNN"
   ]
  },
  {
   "cell_type": "code",
   "execution_count": 40,
   "metadata": {},
   "outputs": [],
   "source": [
    "def nn_model():\n",
    "    model = Sequential()\n",
    "    \n",
    "    model.add(Conv2D(16, (4, 4), input_shape=(1, RESIZE_HEIGHT, RESIZE_WIDTH), activation='relu', name='conv1'))\n",
    "    model.add(Conv2D(16, (4, 4), activation='relu', name='conv2'))\n",
    "    model.add(MaxPool2D(pool_size=(2,2), name='pool1'))\n",
    "#     model.add(Dropout(0.2))\n",
    "    \n",
    "    model.add(Conv2D(8, (4, 4), activation='relu', name='conv3'))\n",
    "    model.add(Conv2D(8, (4, 4), activation='relu', name='conv4'))\n",
    "    model.add(MaxPool2D(pool_size=(2,2), name='pool2'))\n",
    "#     model.add(Dropout(0.2))\n",
    "    \n",
    "    model.add(Conv2D(16, (4, 4), activation='relu', name='conv5'))\n",
    "    model.add(MaxPool2D(pool_size=(2,2), name='pool3'))\n",
    "#     model.add(Dropout(0.2))\n",
    "    \n",
    "    model.add(Flatten(name='flat'))\n",
    "    model.add(Dense(100, activation='relu', name='dense1'))\n",
    "    model.add(Dropout(0.5))\n",
    "    model.add(Dense(40, activation='relu', name='dense2'))\n",
    "    model.add(Dropout(0.5))\n",
    "    model.add(Dense(1, activation='sigmoid', name='output'))\n",
    "    \n",
    "    model.compile(loss='binary_crossentropy',\n",
    "                 optimizer = 'rmsprop',\n",
    "                 metrics=['accuracy'])\n",
    "    \n",
    "    return model\n"
   ]
  },
  {
   "cell_type": "markdown",
   "metadata": {},
   "source": [
    "#### Evaluation"
   ]
  },
  {
   "cell_type": "code",
   "execution_count": 22,
   "metadata": {},
   "outputs": [
    {
     "name": "stdout",
     "output_type": "stream",
     "text": [
      "(200, 1, 137, 180)\n",
      "[1, 0, 1, 1, 1, 0, 0, 0, 1, 0, 1, 1, 1, 1, 1, 0, 1, 1, 1, 0, 1, 1, 0, 0, 1, 1, 1, 1, 0, 0, 1, 0, 0, 1, 0, 0, 0, 1, 1, 1, 1, 0, 0, 1, 0, 1, 1, 1, 0, 0, 0, 1, 1, 1, 0, 0, 1, 1, 0, 1, 1, 0, 0, 0, 1, 1, 1, 0, 1, 0, 1, 1, 1, 1, 0, 1, 0, 1, 1, 1, 1, 0, 1, 0, 0, 1, 1, 1, 1, 1, 0, 0, 1, 1, 1, 0, 1, 1, 1, 1, 1, 1, 0, 1, 1, 1, 0, 1, 0, 0, 0, 1, 1, 0, 1, 1, 1, 1, 1, 1, 1, 1, 1, 1, 1, 1, 0, 0, 1, 0, 1, 1, 0, 0, 1, 1, 1, 1, 1, 0, 0, 1, 1, 1, 1, 0, 1, 1, 1, 1, 0, 0, 1, 1, 1, 1, 1, 1, 1, 1, 1, 1, 0, 0, 1, 1, 0, 1, 1, 1, 1, 1, 1, 1, 1, 1, 0, 1, 1, 1, 1, 1, 0, 1, 1, 0, 0, 1, 1, 0, 0, 0, 1, 0, 1, 1, 1, 0, 1, 0]\n",
      "Epoch 1/7\n",
      "200/200 [==============================] - 36s 182ms/step - loss: 5.0808 - acc: 0.6500\n",
      "Epoch 2/7\n",
      "200/200 [==============================] - 32s 158ms/step - loss: 5.3407 - acc: 0.6650\n",
      "Epoch 3/7\n",
      "200/200 [==============================] - 29s 147ms/step - loss: 5.3407 - acc: 0.6650\n",
      "Epoch 4/7\n",
      "200/200 [==============================] - 29s 146ms/step - loss: 5.3407 - acc: 0.6650\n",
      "Epoch 5/7\n",
      "200/200 [==============================] - 28s 139ms/step - loss: 5.3407 - acc: 0.6650\n",
      "Epoch 6/7\n",
      "200/200 [==============================] - 30s 152ms/step - loss: 5.3407 - acc: 0.6650\n",
      "Epoch 7/7\n",
      "200/200 [==============================] - 30s 148ms/step - loss: 5.3407 - acc: 0.6650\n"
     ]
    },
    {
     "data": {
      "text/plain": [
       "<keras.callbacks.History at 0x1edc31e24a8>"
      ]
     },
     "execution_count": 22,
     "metadata": {},
     "output_type": "execute_result"
    }
   ],
   "source": [
    "model = nn_model()\n",
    "\n",
    "data, labels = readSamplesBasic(sampleData(200, 10, 0.5, 0.5))\n",
    "print(data.shape)\n",
    "print(labels)\n",
    "\n",
    "sampleData\n",
    "\n",
    "model.fit(data, labels, epochs=7, batch_size=10, shuffle=True)"
   ]
  },
  {
   "cell_type": "code",
   "execution_count": 18,
   "metadata": {},
   "outputs": [
    {
     "name": "stdout",
     "output_type": "stream",
     "text": [
      "\r",
      "20/20 [==============================] - 1s 68ms/step\n"
     ]
    },
    {
     "data": {
      "text/plain": [
       "[0.22944669425487518, 0.8999999761581421]"
      ]
     },
     "execution_count": 18,
     "metadata": {},
     "output_type": "execute_result"
    }
   ],
   "source": [
    "model.evaluate(data[30:50], labels[30:50])\n",
    "\n",
    "# print(model.predict(data[30:50]))\n",
    "# print(labels[30:50])"
   ]
  },
  {
   "cell_type": "code",
   "execution_count": 41,
   "metadata": {
    "scrolled": true
   },
   "outputs": [
    {
     "name": "stdout",
     "output_type": "stream",
     "text": [
      "Epoch 1/7\n",
      "133/133 [==============================] - 22s 167ms/step - loss: 7.8927 - acc: 0.4962\n",
      "Epoch 2/7\n",
      "133/133 [==============================] - 25s 187ms/step - loss: 2.1170 - acc: 0.6466\n",
      "Epoch 3/7\n",
      "133/133 [==============================] - 24s 180ms/step - loss: 0.5077 - acc: 0.7218\n",
      "Epoch 4/7\n",
      "133/133 [==============================] - 25s 188ms/step - loss: 3.4387 - acc: 0.6842\n",
      "Epoch 5/7\n",
      "133/133 [==============================] - 26s 193ms/step - loss: 0.4317 - acc: 0.8045\n",
      "Epoch 6/7\n",
      "133/133 [==============================] - 27s 201ms/step - loss: 0.6068 - acc: 0.7895\n",
      "Epoch 7/7\n",
      "133/133 [==============================] - 24s 182ms/step - loss: 0.2989 - acc: 0.8797\n",
      "67/67 [==============================] - 7s 102ms/step\n",
      "Epoch 1/7\n",
      "133/133 [==============================] - 30s 227ms/step - loss: 1.3751 - acc: 0.6241\n",
      "Epoch 2/7\n",
      "133/133 [==============================] - 27s 201ms/step - loss: 0.4614 - acc: 0.7218\n",
      "Epoch 3/7\n",
      "133/133 [==============================] - 30s 228ms/step - loss: 0.4596 - acc: 0.6767\n",
      "Epoch 4/7\n",
      "133/133 [==============================] - 30s 222ms/step - loss: 0.4468 - acc: 0.7895\n",
      "Epoch 5/7\n",
      "133/133 [==============================] - 29s 219ms/step - loss: 0.3634 - acc: 0.8045\n",
      "Epoch 6/7\n",
      "133/133 [==============================] - 31s 233ms/step - loss: 0.7936 - acc: 0.8346\n",
      "Epoch 7/7\n",
      "133/133 [==============================] - 28s 209ms/step - loss: 0.3463 - acc: 0.8346\n",
      "67/67 [==============================] - 7s 110ms/step\n",
      "Epoch 1/7\n",
      "134/134 [==============================] - 28s 212ms/step - loss: 8.4161 - acc: 0.4478\n",
      "Epoch 2/7\n",
      "134/134 [==============================] - 26s 191ms/step - loss: 8.5716 - acc: 0.4627\n",
      "Epoch 3/7\n",
      "134/134 [==============================] - 27s 198ms/step - loss: 1.6769 - acc: 0.6343\n",
      "Epoch 4/7\n",
      "134/134 [==============================] - 29s 217ms/step - loss: 0.5301 - acc: 0.7090\n",
      "Epoch 5/7\n",
      "134/134 [==============================] - 25s 186ms/step - loss: 0.4695 - acc: 0.7388\n",
      "Epoch 6/7\n",
      "134/134 [==============================] - 23s 171ms/step - loss: 0.3985 - acc: 0.7910\n",
      "Epoch 7/7\n",
      "134/134 [==============================] - 25s 190ms/step - loss: 0.5156 - acc: 0.8209\n",
      "66/66 [==============================] - 10s 144ms/step\n",
      "Results: 0.75494 (0.01506)\n"
     ]
    },
    {
     "name": "stderr",
     "output_type": "stream",
     "text": [
      "[Parallel(n_jobs=1)]: Done   3 out of   3 | elapsed:  9.9min finished\n"
     ]
    }
   ],
   "source": [
    "# Build pipeline\n",
    "\n",
    "layers = []\n",
    "layers.append(('nn', KerasClassifier(build_fn=nn_model,\n",
    "                                   epochs=5,\n",
    "                                   batch_size=10,\n",
    "                                   verbose=1)))\n",
    "estimator = Pipeline(layers)\n",
    "\n",
    "\n",
    "# Evaluate\n",
    "\n",
    "data, labels = readSamplesBasic(sampleData(200, 10, 0.5, 0.5))\n",
    "\n",
    "sKFold = StratifiedKFold(n_splits=3)\n",
    "results = cross_val_score(estimator, data, labels, cv=sKFold, verbose=1, scoring='accuracy')\n",
    "\n",
    "print(\"Results: %.5f (%.5f)\" % (results.mean(), results.std()))"
   ]
  }
 ],
 "metadata": {
  "anaconda-cloud": {},
  "kernelspec": {
   "display_name": "Python [Anaconda3]",
   "language": "python",
   "name": "Python [Anaconda3]"
  },
  "language_info": {
   "codemirror_mode": {
    "name": "ipython",
    "version": 3
   },
   "file_extension": ".py",
   "mimetype": "text/x-python",
   "name": "python",
   "nbconvert_exporter": "python",
   "pygments_lexer": "ipython3",
   "version": "3.5.5"
  }
 },
 "nbformat": 4,
 "nbformat_minor": 2
}
