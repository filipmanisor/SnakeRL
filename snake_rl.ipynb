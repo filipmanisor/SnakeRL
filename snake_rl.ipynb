{
 "cells": [
  {
   "cell_type": "code",
   "execution_count": 138,
   "metadata": {},
   "outputs": [],
   "source": [
    "from selenium import webdriver\n",
    "from selenium.webdriver.common.keys import Keys\n",
    "from selenium.common.exceptions import WebDriverException\n",
    "import matplotlib.pyplot as plt\n",
    "import time\n",
    "from os import listdir\n",
    "import random\n",
    "from PIL import Image, ImageOps"
   ]
  },
  {
   "cell_type": "markdown",
   "metadata": {},
   "source": [
    "#### Parameters"
   ]
  },
  {
   "cell_type": "code",
   "execution_count": 109,
   "metadata": {},
   "outputs": [],
   "source": [
    "STILL_ALIVE_REWARD = 1\n",
    "DEAD_REWARD = -1\n",
    "\n",
    "CROP_SHAPE = (750, 539, 1)\n",
    "RESIZE_WIDTH = 180\n",
    "RESIZE_HEIGHT = 137"
   ]
  },
  {
   "cell_type": "markdown",
   "metadata": {},
   "source": [
    "#### Browser functions"
   ]
  },
  {
   "cell_type": "code",
   "execution_count": 119,
   "metadata": {},
   "outputs": [],
   "source": [
    "def selectLevel(l):\n",
    "    xpath = '/html/body/section/div[2]/nav/p[' + str(l+1) + ']'\n",
    "    \n",
    "    level = browser.find_element_by_xpath(xpath)\n",
    "    level.click()\n",
    "    \n",
    "    \n",
    "def clickBoard():        \n",
    "    xpath = '/html/body/section/div[2]/div'\n",
    "    board = browser.find_element_by_xpath(xpath)\n",
    "\n",
    "    try:\n",
    "        board.click()\n",
    "    except WebDriverException:\n",
    "        return\n",
    "    \n",
    "    \n",
    "def getScreen():\n",
    "    global index\n",
    "    fileName = 'data/shots/screen_' + str(index) + '.png'\n",
    "    \n",
    "    state = getState()\n",
    "    if state == 'playing' or state == 'paused':\n",
    "    \n",
    "        ss = browser.get_screenshot_as_file(fileName)\n",
    "\n",
    "        index += 1\n",
    "\n",
    "    return fileName\n",
    "    \n",
    "    \n",
    "def getState():\n",
    "    xpath = '/html/body/section/div[2]'\n",
    "    state = browser.find_element_by_xpath(xpath)\n",
    "    c = state.get_attribute('class')\n",
    "    \n",
    "    return c.split(' ')[-1]\n",
    "\n",
    "\n",
    "def getScore():\n",
    "    state = getState()\n",
    "    \n",
    "    if state == 'playing' or state == 'paused':\n",
    "        \n",
    "        xpath = '/html/body/section/div[2]/p[1]/span'\n",
    "        score = browser.find_element_by_xpath(xpath)\n",
    "\n",
    "        if not score.text.isnumeric():\n",
    "            return 0\n",
    "        return int(score.text)\n",
    "    \n",
    "    return 0\n",
    "\n",
    "\n",
    "def makeMove(m):\n",
    "    xpath = '/html/body/section/div[2]/div'\n",
    "    board = browser.find_element_by_xpath(xpath)\n",
    "\n",
    "    if m == 1:\n",
    "        browser.find_element_by_tag_name('body').send_keys(Keys.ARROW_RIGHT)\n",
    "    elif m == 2:\n",
    "        browser.find_element_by_tag_name('body').send_keys(Keys.ARROW_DOWN)\n",
    "    elif m == 3:\n",
    "        browser.find_element_by_tag_name('body').send_keys(Keys.ARROW_LEFT)\n",
    "    elif m == 4:\n",
    "        browser.find_element_by_tag_name('body').send_keys(Keys.ARROW_UP)\n",
    "        \n",
    "\n",
    "def makeRandomMove():\n",
    "    r = random.randint(0, 4)\n",
    "    makeMove(r)\n",
    "    \n",
    "    return r"
   ]
  },
  {
   "cell_type": "markdown",
   "metadata": {},
   "source": [
    "#### Preprocess functions"
   ]
  },
  {
   "cell_type": "code",
   "execution_count": 61,
   "metadata": {},
   "outputs": [],
   "source": [
    "folder = 'data/shots/'\n",
    "\n",
    "\n",
    "def cropImgOld(fileName):\n",
    "    ss = plt.imread(fileName)\n",
    "\n",
    "    ss = ss[120:659, 273:1023, :]\n",
    "    \n",
    "    plt.imsave(fileName, ss)\n",
    "        \n",
    "\n",
    "def preprocImg(fileName):\n",
    "    '''Preprocess a screenshot.'''\n",
    "    im = Image.open(fileName)    \n",
    "    \n",
    "    # Crop board\n",
    "    im = im.crop((273, 120, 1023, 659))\n",
    "    \n",
    "    # Grayscale\n",
    "    im = ImageOps.grayscale(im)\n",
    "    \n",
    "    # Binarization\n",
    "    t = 127\n",
    "    im = im.point(lambda x: 255 if x > t else 0)\n",
    "    \n",
    "    # Resize\n",
    "    im = im.resize((RESIZE_WIDTH, RESIZE_HEIGHT))\n",
    "    \n",
    "    return im\n",
    "    \n",
    "    \n",
    "def preprocAll():\n",
    "    '''Preprocess all screenshots in the data folder.'''\n",
    "    files = listdir(folder)\n",
    "    for f in files:\n",
    "        fileName = folder + f\n",
    "        im = preprocImg(fileName)\n",
    "        im.save(fileName)"
   ]
  },
  {
   "cell_type": "code",
   "execution_count": 112,
   "metadata": {},
   "outputs": [],
   "source": [
    "preprocAll()"
   ]
  },
  {
   "cell_type": "markdown",
   "metadata": {},
   "source": [
    "#### Play game"
   ]
  },
  {
   "cell_type": "code",
   "execution_count": 141,
   "metadata": {
    "scrolled": true
   },
   "outputs": [
    {
     "name": "stdout",
     "output_type": "stream",
     "text": [
      "{'screen_61.png': [2, 1, 1, 0], 'screen_59.png': [2, 3, 1, 0], 'screen_13.png': [1, 1, 1, 0], 'screen_127.png': [5, 4, 1, 0], 'screen_178.png': [8, 4, 1, 0], 'screen_133.png': [5, 3, 1, 0], 'screen_85.png': [2, 4, 1, 0], 'screen_1.png': [0, 4, 1, 0], 'screen_11.png': [0, 2, -1, 0], 'screen_105.png': [3, 3, -1, 0], 'screen_19.png': [1, 2, 1, 0], 'screen_180.png': [8, 4, -1, 0], 'screen_176.png': [8, 3, 1, 0], 'screen_194.png': [9, 3, -1, 0], 'screen_51.png': [2, 1, 1, 0], 'screen_101.png': [3, 0, 1, 0], 'screen_159.png': [7, 4, 1, 0], 'screen_109.png': [4, 4, 1, 0], 'screen_23.png': [1, 2, 1, 0], 'screen_31.png': [2, 2, 1, 0], 'screen_35.png': [2, 3, 1, 0], 'screen_186.png': [9, 3, 1, 0], 'screen_41.png': [2, 1, 1, 0], 'screen_99.png': [3, 3, 1, 0], 'screen_17.png': [1, 3, 1, 0], 'screen_141.png': [5, 2, -1, 0], 'screen_43.png': [2, 3, 1, 0], 'screen_117.png': [4, 1, 1, 0], 'screen_67.png': [2, 3, 1, 0], 'screen_57.png': [2, 1, 1, 0], 'screen_49.png': [2, 1, 1, 0], 'screen_93.png': [3, 3, 1, 0], 'screen_83.png': [2, 2, 1, 0], 'screen_25.png': [1, 0, 1, 0], 'screen_153.png': [6, 4, -1, 0], 'screen_21.png': [1, 1, 1, 0], 'screen_33.png': [2, 2, 1, 0], 'screen_91.png': [3, 0, 1, 0], 'screen_95.png': [3, 0, 1, 0], 'screen_161.png': [7, 3, 1, 0], 'screen_69.png': [2, 4, 1, 0], 'screen_55.png': [2, 4, 1, 0], 'screen_157.png': [7, 4, 1, 0], 'screen_75.png': [2, 3, 1, 0], 'screen_121.png': [4, 0, 1, 0], 'screen_115.png': [4, 1, 1, 0], 'screen_103.png': [3, 2, 1, 0], 'screen_45.png': [2, 4, 1, 0], 'screen_113.png': [4, 2, 1, 0], 'screen_3.png': [0, 0, 1, 0], 'screen_147.png': [6, 2, 1, 0], 'screen_89.png': [3, 2, 1, 0], 'screen_123.png': [4, 2, 1, 0], 'screen_73.png': [2, 4, 1, 0], 'screen_139.png': [5, 0, 1, 0], 'screen_163.png': [7, 3, 1, 0], 'screen_107.png': [4, 4, 1, 0], 'screen_7.png': [0, 4, 1, 0], 'screen_119.png': [4, 1, 1, 0], 'screen_77.png': [2, 0, 1, 0], 'screen_37.png': [2, 1, 1, 0], 'screen_169.png': [7, 3, 1, 0], 'screen_87.png': [2, 3, -1, 0], 'screen_172.png': [8, 1, 1, 0], 'screen_5.png': [0, 4, 1, 0], 'screen_111.png': [4, 0, 1, 0], 'screen_47.png': [2, 4, 1, 0], 'screen_129.png': [5, 3, 1, 0], 'screen_63.png': [2, 2, 1, 0], 'screen_174.png': [8, 1, 1, 0], 'screen_27.png': [1, 0, 1, 0], 'screen_15.png': [1, 2, 1, 0], 'screen_71.png': [2, 3, 1, 0], 'screen_182.png': [9, 4, 1, 0], 'screen_184.png': [9, 2, 1, 0], 'screen_39.png': [2, 1, 1, 0], 'screen_9.png': [0, 2, 1, 0], 'screen_65.png': [2, 4, 1, 0], 'screen_143.png': [6, 1, 1, 0], 'screen_97.png': [3, 3, 1, 0], 'screen_81.png': [2, 3, 1, 0], 'screen_79.png': [2, 1, 1, 0], 'screen_192.png': [9, 3, 1, 0], 'screen_167.png': [7, 1, 1, 0], 'screen_145.png': [6, 2, 1, 0], 'screen_137.png': [5, 4, 1, 0], 'screen_151.png': [6, 0, 1, 0], 'screen_135.png': [5, 1, 1, 0], 'screen_53.png': [2, 0, 1, 0], 'screen_125.png': [4, 4, -1, 0], 'screen_155.png': [7, 0, 1, 0], 'screen_149.png': [6, 0, 1, 0], 'screen_170.png': [7, 0, -1, 0], 'screen_188.png': [9, 1, 1, 0], 'screen_190.png': [9, 1, 1, 0], 'screen_165.png': [7, 3, 1, 0], 'screen_131.png': [5, 4, 1, 0], 'screen_29.png': [1, 2, -1, 0]}\n"
     ]
    }
   ],
   "source": [
    "url = 'https://playsnake.org/'\n",
    "\n",
    "browser = webdriver.Chrome(executable_path='D:/Libraries/Drivers/chromedriver_win32/chromedriver.exe')\n",
    "# browser = webdriver.Chrome(executable_path='D:/Biblioteci/Python/chromedriver_win32/chromedriver.exe')\n",
    "browser.get(url) \n",
    "\n",
    "\n",
    "index = 0\n",
    "history = dict()\n",
    "\n",
    "maxGames = 10\n",
    "\n",
    "for g in range(maxGames):\n",
    "    \n",
    "    # Select the level\n",
    "    selectLevel(1)\n",
    "    time.sleep(2)\n",
    "    \n",
    "    score = 0\n",
    "    \n",
    "    while getState() == 'playing':\n",
    "        clickBoard()\n",
    "        s = getScreen()\n",
    "\n",
    "        clickBoard()\n",
    "        m = makeRandomMove()\n",
    "\n",
    "        clickBoard()\n",
    "        s2 = getScreen()\n",
    "        r = max(STILL_ALIVE_REWARD, getScore() - score)\n",
    "        history['screen_'+str(index-1)+'.png'] = [g, m, r, score]\n",
    "        score = getScore()\n",
    "        \n",
    "        clickBoard()\n",
    "        \n",
    "    history['screen_'+str(index-1)+'.png'][2] = DEAD_REWARD\n",
    "    clickBoard()\n",
    "    time.sleep(1)\n",
    "    \n",
    "print(history)\n",
    "\n",
    "browser.quit()\n",
    "\n",
    "preprocAll()"
   ]
  },
  {
   "cell_type": "markdown",
   "metadata": {},
   "source": [
    "#### Q model"
   ]
  },
  {
   "cell_type": "code",
   "execution_count": 97,
   "metadata": {},
   "outputs": [],
   "source": [
    "from keras.models import Sequential\n",
    "from keras.layers import Conv2D, MaxPool2D, Flatten, Dense\n",
    "from keras.regularizers import l2\n",
    "from keras.optimizers import Adam, Adadelta, RMSprop\n",
    "import keras.losses as losses\n",
    "from keras.backend import set_image_data_format"
   ]
  },
  {
   "cell_type": "markdown",
   "metadata": {},
   "source": [
    "Intai fac un model care doar prezice daca un board reprezinta un joc care s-a terminat (lovit de zid) sau nu"
   ]
  },
  {
   "cell_type": "code",
   "execution_count": 149,
   "metadata": {},
   "outputs": [
    {
     "name": "stdout",
     "output_type": "stream",
     "text": [
      "(195, 1, 137, 180)\n",
      "[ 1.  1.  1.  1.  1.  1.  1.  1. -1.  1.  1.  1.  1. -1.  1.  1.  1.  1.\n",
      "  1.  1.  1.  1.  1.  1.  1.  1.  1.  1.  1.  1. -1.  1.  1.  1.  1.  1.\n",
      "  1.  1.  1.  1.  1.  1.  1.  1.  1.  1.  1.  1. -1.  1.  1.  1.  1.  1.\n",
      "  1.  1.  1.  1.  1.  1.  1. -1.  1.  1.  1.  1.  1.  1.  1.  1.  1.  1.\n",
      "  1.  1.  1.  1.  1.  1.  1.  1. -1.  1.  1.  1.  1.  1.  1.  1.  1.  1.\n",
      "  1. -1.  1.  1.  1.  1.  1.  1.  1.  1.  1.  1.  1.  1.  1.  1. -1.  1.\n",
      "  1.  1.  1.  1.  1.  1.  1.  1.  1. -1.  1.  1.  1.  1.  1.  1.  1.  1.\n",
      "  1.  1.  1.  1.  1.  1.  1.  1.  1.  1.  1.  1.  1.  1.  1.  1.  1.  1.\n",
      "  1.  1.  1.  1.  1.  1.  1.  1.  1.  1.  1.  1.  1.  1.  1.  1.  1.  1.\n",
      "  1.  1.  1.  1.  1.  1.  1.  1.  1.  1.  1.  1.  1.  1.  1.  1.  1.  1.\n",
      "  1. -1.  1.  1.  1.  1.  1.  1.  1.  1.  1.  1.  1.  1.  1.]\n",
      "Epoch 1/5\n",
      "195/195 [==============================] - 11s 57ms/step - loss: 1.6351 - binary_accuracy: 0.9487\n",
      "Epoch 2/5\n",
      "195/195 [==============================] - 10s 51ms/step - loss: 1.6351 - binary_accuracy: 0.9487\n",
      "Epoch 3/5\n",
      "195/195 [==============================] - 10s 50ms/step - loss: 1.6351 - binary_accuracy: 0.9487\n",
      "Epoch 4/5\n",
      "195/195 [==============================] - 10s 50ms/step - loss: 1.6351 - binary_accuracy: 0.9487\n",
      "Epoch 5/5\n",
      "195/195 [==============================] - 10s 50ms/step - loss: 1.6351 - binary_accuracy: 0.9487\n"
     ]
    },
    {
     "data": {
      "text/plain": [
       "<keras.callbacks.History at 0x1417ba11390>"
      ]
     },
     "execution_count": 149,
     "metadata": {},
     "output_type": "execute_result"
    }
   ],
   "source": [
    "import numpy as np\n",
    "\n",
    "set_image_data_format('channels_first')\n",
    "\n",
    "def readData():\n",
    "    files = listdir(folder)\n",
    "    \n",
    "    labels = np.zeros(len(files))    \n",
    "    data = []\n",
    "    \n",
    "    for i, f in enumerate(files):\n",
    "        im = Image.open(folder + f)\n",
    "        \n",
    "        if f in history:\n",
    "            labels[i] = history[f][2]\n",
    "        else:\n",
    "            labels[i] = STILL_ALIVE_REWARD\n",
    "            \n",
    "        data.append([np.asarray(im.convert(\"L\"))])\n",
    "        \n",
    "    data = np.asarray(data)\n",
    "    return data, labels\n",
    "\n",
    "        \n",
    "def nn_model():\n",
    "    model = Sequential()\n",
    "    \n",
    "    model.add(Conv2D(10, (5, 5), input_shape=(1, RESIZE_HEIGHT, RESIZE_WIDTH), activation='relu', name='conv1'))\n",
    "    model.add(MaxPool2D(pool_size=(2,2), name='pool1'))\n",
    "    \n",
    "    model.add(Conv2D(5, (5, 5), activation='relu', name='conv2'))\n",
    "    model.add(MaxPool2D(pool_size=(2,2), name='pool2'))\n",
    "    \n",
    "    model.add(Flatten(name='flat'))\n",
    "    model.add(Dense(100, activation='relu', name='dense1'))\n",
    "    model.add(Dense(1, activation='softmax', name='dense2'))\n",
    "    \n",
    "    model.compile(loss='binary_crossentropy',\n",
    "                 optimizer = 'adam',\n",
    "                 metrics=['binary_accuracy'])\n",
    "    \n",
    "    return model\n",
    "    \n",
    "model = nn_model()\n",
    "\n",
    "data, labels = readData()\n",
    "print(data.shape)\n",
    "print(labels)\n",
    "\n",
    "model.fit(data, labels, epochs=1, batch_size=8, shuffle=True)"
   ]
  },
  {
   "cell_type": "code",
   "execution_count": 156,
   "metadata": {},
   "outputs": [
    {
     "name": "stdout",
     "output_type": "stream",
     "text": [
      "\r",
      "10/10 [==============================] - 0s 32ms/step\n"
     ]
    },
    {
     "data": {
      "text/plain": [
       "[3.188477039337158, 0.8999999761581421]"
      ]
     },
     "execution_count": 156,
     "metadata": {},
     "output_type": "execute_result"
    }
   ],
   "source": [
    "model.evaluate(data[:10], labels[:10])"
   ]
  },
  {
   "cell_type": "code",
   "execution_count": 157,
   "metadata": {},
   "outputs": [
    {
     "name": "stdout",
     "output_type": "stream",
     "text": [
      "[[1.]\n",
      " [1.]\n",
      " [1.]\n",
      " [1.]\n",
      " [1.]\n",
      " [1.]\n",
      " [1.]\n",
      " [1.]\n",
      " [1.]\n",
      " [1.]\n",
      " [1.]\n",
      " [1.]\n",
      " [1.]\n",
      " [1.]\n",
      " [1.]\n",
      " [1.]\n",
      " [1.]\n",
      " [1.]\n",
      " [1.]\n",
      " [1.]\n",
      " [1.]\n",
      " [1.]\n",
      " [1.]\n",
      " [1.]\n",
      " [1.]\n",
      " [1.]\n",
      " [1.]\n",
      " [1.]\n",
      " [1.]\n",
      " [1.]]\n",
      "[ 1.  1.  1.  1.  1.  1.  1.  1. -1.  1.]\n"
     ]
    }
   ],
   "source": [
    "print(model.predict(data[:30]))\n",
    "print(labels[:10])"
   ]
  }
 ],
 "metadata": {
  "anaconda-cloud": {},
  "kernelspec": {
   "display_name": "Python [Anaconda3]",
   "language": "python",
   "name": "Python [Anaconda3]"
  },
  "language_info": {
   "codemirror_mode": {
    "name": "ipython",
    "version": 3
   },
   "file_extension": ".py",
   "mimetype": "text/x-python",
   "name": "python",
   "nbconvert_exporter": "python",
   "pygments_lexer": "ipython3",
   "version": "3.5.5"
  }
 },
 "nbformat": 4,
 "nbformat_minor": 2
}
